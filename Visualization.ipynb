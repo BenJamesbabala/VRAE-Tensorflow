{
 "cells": [
  {
   "cell_type": "markdown",
   "metadata": {},
   "source": [
    "# Visualization \n",
    "\n",
    "## TODO: k-NN + directed version (direction = style)"
   ]
  },
  {
   "cell_type": "code",
   "execution_count": 1,
   "metadata": {
    "collapsed": false
   },
   "outputs": [
    {
     "data": {
      "text/html": [
       "\n",
       "    <div class=\"bk-root\">\n",
       "        <a href=\"http://bokeh.pydata.org\" target=\"_blank\" class=\"bk-logo bk-logo-small bk-logo-notebook\"></a>\n",
       "        <span id=\"b57a0883-5514-4b6f-9e8e-bb7f6a18eef7\">Loading BokehJS ...</span>\n",
       "    </div>"
      ]
     },
     "metadata": {},
     "output_type": "display_data"
    },
    {
     "data": {
      "application/javascript": [
       "\n",
       "(function(global) {\n",
       "  function now() {\n",
       "    return new Date();\n",
       "  }\n",
       "\n",
       "  var force = true;\n",
       "\n",
       "  if (typeof (window._bokeh_onload_callbacks) === \"undefined\" || force === true) {\n",
       "    window._bokeh_onload_callbacks = [];\n",
       "    window._bokeh_is_loading = undefined;\n",
       "  }\n",
       "\n",
       "\n",
       "  \n",
       "  if (typeof (window._bokeh_timeout) === \"undefined\" || force === true) {\n",
       "    window._bokeh_timeout = Date.now() + 5000;\n",
       "    window._bokeh_failed_load = false;\n",
       "  }\n",
       "\n",
       "  var NB_LOAD_WARNING = {'data': {'text/html':\n",
       "     \"<div style='background-color: #fdd'>\\n\"+\n",
       "     \"<p>\\n\"+\n",
       "     \"BokehJS does not appear to have successfully loaded. If loading BokehJS from CDN, this \\n\"+\n",
       "     \"may be due to a slow or bad network connection. Possible fixes:\\n\"+\n",
       "     \"</p>\\n\"+\n",
       "     \"<ul>\\n\"+\n",
       "     \"<li>re-rerun `output_notebook()` to attempt to load from CDN again, or</li>\\n\"+\n",
       "     \"<li>use INLINE resources instead, as so:</li>\\n\"+\n",
       "     \"</ul>\\n\"+\n",
       "     \"<code>\\n\"+\n",
       "     \"from bokeh.resources import INLINE\\n\"+\n",
       "     \"output_notebook(resources=INLINE)\\n\"+\n",
       "     \"</code>\\n\"+\n",
       "     \"</div>\"}};\n",
       "\n",
       "  function display_loaded() {\n",
       "    if (window.Bokeh !== undefined) {\n",
       "      document.getElementById(\"b57a0883-5514-4b6f-9e8e-bb7f6a18eef7\").textContent = \"BokehJS successfully loaded.\";\n",
       "    } else if (Date.now() < window._bokeh_timeout) {\n",
       "      setTimeout(display_loaded, 100)\n",
       "    }\n",
       "  }\n",
       "\n",
       "  function run_callbacks() {\n",
       "    window._bokeh_onload_callbacks.forEach(function(callback) { callback() });\n",
       "    delete window._bokeh_onload_callbacks\n",
       "    console.info(\"Bokeh: all callbacks have finished\");\n",
       "  }\n",
       "\n",
       "  function load_libs(js_urls, callback) {\n",
       "    window._bokeh_onload_callbacks.push(callback);\n",
       "    if (window._bokeh_is_loading > 0) {\n",
       "      console.log(\"Bokeh: BokehJS is being loaded, scheduling callback at\", now());\n",
       "      return null;\n",
       "    }\n",
       "    if (js_urls == null || js_urls.length === 0) {\n",
       "      run_callbacks();\n",
       "      return null;\n",
       "    }\n",
       "    console.log(\"Bokeh: BokehJS not loaded, scheduling load and callback at\", now());\n",
       "    window._bokeh_is_loading = js_urls.length;\n",
       "    for (var i = 0; i < js_urls.length; i++) {\n",
       "      var url = js_urls[i];\n",
       "      var s = document.createElement('script');\n",
       "      s.src = url;\n",
       "      s.async = false;\n",
       "      s.onreadystatechange = s.onload = function() {\n",
       "        window._bokeh_is_loading--;\n",
       "        if (window._bokeh_is_loading === 0) {\n",
       "          console.log(\"Bokeh: all BokehJS libraries loaded\");\n",
       "          run_callbacks()\n",
       "        }\n",
       "      };\n",
       "      s.onerror = function() {\n",
       "        console.warn(\"failed to load library \" + url);\n",
       "      };\n",
       "      console.log(\"Bokeh: injecting script tag for BokehJS library: \", url);\n",
       "      document.getElementsByTagName(\"head\")[0].appendChild(s);\n",
       "    }\n",
       "  };var element = document.getElementById(\"b57a0883-5514-4b6f-9e8e-bb7f6a18eef7\");\n",
       "  if (element == null) {\n",
       "    console.log(\"Bokeh: ERROR: autoload.js configured with elementid 'b57a0883-5514-4b6f-9e8e-bb7f6a18eef7' but no matching script tag was found. \")\n",
       "    return false;\n",
       "  }\n",
       "\n",
       "  var js_urls = [\"https://cdn.pydata.org/bokeh/release/bokeh-0.12.4.min.js\", \"https://cdn.pydata.org/bokeh/release/bokeh-widgets-0.12.4.min.js\"];\n",
       "\n",
       "  var inline_js = [\n",
       "    function(Bokeh) {\n",
       "      Bokeh.set_log_level(\"info\");\n",
       "    },\n",
       "    \n",
       "    function(Bokeh) {\n",
       "      \n",
       "      document.getElementById(\"b57a0883-5514-4b6f-9e8e-bb7f6a18eef7\").textContent = \"BokehJS is loading...\";\n",
       "    },\n",
       "    function(Bokeh) {\n",
       "      console.log(\"Bokeh: injecting CSS: https://cdn.pydata.org/bokeh/release/bokeh-0.12.4.min.css\");\n",
       "      Bokeh.embed.inject_css(\"https://cdn.pydata.org/bokeh/release/bokeh-0.12.4.min.css\");\n",
       "      console.log(\"Bokeh: injecting CSS: https://cdn.pydata.org/bokeh/release/bokeh-widgets-0.12.4.min.css\");\n",
       "      Bokeh.embed.inject_css(\"https://cdn.pydata.org/bokeh/release/bokeh-widgets-0.12.4.min.css\");\n",
       "    }\n",
       "  ];\n",
       "\n",
       "  function run_inline_js() {\n",
       "    \n",
       "    if ((window.Bokeh !== undefined) || (force === true)) {\n",
       "      for (var i = 0; i < inline_js.length; i++) {\n",
       "        inline_js[i](window.Bokeh);\n",
       "      }if (force === true) {\n",
       "        display_loaded();\n",
       "      }} else if (Date.now() < window._bokeh_timeout) {\n",
       "      setTimeout(run_inline_js, 100);\n",
       "    } else if (!window._bokeh_failed_load) {\n",
       "      console.log(\"Bokeh: BokehJS failed to load within specified timeout.\");\n",
       "      window._bokeh_failed_load = true;\n",
       "    } else if (force !== true) {\n",
       "      var cell = $(document.getElementById(\"b57a0883-5514-4b6f-9e8e-bb7f6a18eef7\")).parents('.cell').data().cell;\n",
       "      cell.output_area.append_execute_result(NB_LOAD_WARNING)\n",
       "    }\n",
       "\n",
       "  }\n",
       "\n",
       "  if (window._bokeh_is_loading === 0) {\n",
       "    console.log(\"Bokeh: BokehJS loaded, going straight to plotting\");\n",
       "    run_inline_js();\n",
       "  } else {\n",
       "    load_libs(js_urls, function() {\n",
       "      console.log(\"Bokeh: BokehJS plotting callback run at\", now());\n",
       "      run_inline_js();\n",
       "    });\n",
       "  }\n",
       "}(this));"
      ]
     },
     "metadata": {},
     "output_type": "display_data"
    },
    {
     "name": "stdout",
     "output_type": "stream",
     "text": [
      "sequence_max : 30\n",
      "decoder_num_layers : 2\n",
      "beta_period : 100\n",
      "training_dir : logs/sentiment_input_deep\n",
      "epoches : 10000\n",
      "batch_size : 1048\n",
      "char2word_num_layers : 2\n",
      "initialize : True\n",
      "teacher_forcing : True\n",
      "learning_rate_change_rate : 3000\n",
      "beta_offset : 15\n",
      "encoder_num_layers : 1\n",
      "char2word_state_size : 512\n",
      "sequence_min : 8\n",
      "latent_dim : 16\n",
      "dtype_precision : 32\n",
      "cell : LSTM\n",
      "use_sentiment_feature : True\n",
      "initial_learning_rate : 0.001\n",
      "decoder_state_size : 1024\n",
      "output_keep_prob : 0.5\n",
      "acceptable_accuracy : 0.4\n",
      "peephole : True\n",
      "input_keep_prob : 0.9\n",
      "encoder_state_size : 1024\n",
      "latent_loss_weight : 0.005\n"
     ]
    },
    {
     "name": "stderr",
     "output_type": "stream",
     "text": [
      "/home/ubuntu/anaconda2/lib/python2.7/site-packages/nltk/twitter/__init__.py:20: UserWarning: The twython library has not been installed. Some functionality from the twitter package will not be available.\n",
      "  warnings.warn(\"The twython library has not been installed. \"\n"
     ]
    }
   ],
   "source": [
    "import numpy as np\n",
    "import time\n",
    "import datetime \n",
    "import json\n",
    "from tqdm import tqdm\n",
    "import os\n",
    "import tensorflow as tf\n",
    "import seaborn as sns\n",
    "import matplotlib\n",
    "import numpy as np\n",
    "import matplotlib.pyplot as plt\n",
    "%matplotlib inline \n",
    "from bokeh.io import output_notebook\n",
    "from bokeh.plotting import figure, output_file, show, ColumnDataSource\n",
    "from bokeh.models import HoverTool\n",
    "output_notebook()\n",
    "\n",
    "import data_utils_LMR\n",
    "from data_utils_LMR import prepare_data,read_data, EncoderDecoder\n",
    "from model import Vrae as Vrae_model\n",
    "from batch import Generator\n",
    "\n",
    "training_dir = 'logs/'\n",
    "#training_dir += 'state1024_layers2_latent16_batch256_LSTM_seqs15-30_8e-3'\n",
    "#training_dir += 'state1024_layers2_latent16_batch256_LSTM_seqs15-30_8e-3_d0.5'\n",
    "#training_dir += state300_layers5_latent16_batch256_LSTM_seqs15-30_8e-3_B0.01_f32\n",
    "#training_dir += '6layers_UGRNN_small'\n",
    "#training_dir += '4layers_UGRNN'\n",
    "training_dir += 'sentiment_input_deep'\n",
    "\n",
    "# sentiment analyzer\n",
    "from nltk.sentiment.vader import SentimentIntensityAnalyzer\n",
    "sentimentAnalyzer = SentimentIntensityAnalyzer()\n",
    "def getSentimentScore(sentence):\n",
    "    scores = sentimentAnalyzer.polarity_scores(sentence)\n",
    "    return (scores['neg'], scores['neu'] ,scores['pos'])\n",
    "\n",
    "class dotdict(dict):\n",
    "    \"\"\"dot.notation access to dictionary attributes\"\"\"\n",
    "    __getattr__ = dict.get\n",
    "    __setattr__ = dict.__setitem__\n",
    "    __delattr__ = dict.__delitem__\n",
    "    \n",
    "with open(training_dir +'/flags.json', 'r') as fp:\n",
    "    FLAGS = dotdict(json.loads( fp.read() ) )\n",
    "    \n",
    "for k,v in FLAGS.iteritems():\n",
    "    print k,':',v\n",
    "      \n",
    "n_samples = 5000#int(FLAGS.batch_size)"
   ]
  },
  {
   "cell_type": "markdown",
   "metadata": {},
   "source": [
    "## Prepare data"
   ]
  },
  {
   "cell_type": "code",
   "execution_count": 2,
   "metadata": {
    "collapsed": false
   },
   "outputs": [
    {
     "name": "stdout",
     "output_type": "stream",
     "text": [
      "Downloading data from data_LMR/..\n",
      "Data already downloaded.\n",
      "Creating Vocabulary..\n",
      "Vocabulary already created.\n",
      "Converting sentences to sequences of ids..\n",
      "Moving some line from test set to train set..\n",
      "  reading data line 10000\n",
      "  reading data line 20000\n",
      "  reading data line 30000\n",
      "37109  sentences\n"
     ]
    },
    {
     "data": {
      "image/png": "[encoded data removed]",
      "text/plain": [
       "<matplotlib.figure.Figure at 0x7fac80634b90>"
      ]
     },
     "metadata": {},
     "output_type": "display_data"
    }
   ],
   "source": [
    "with open(training_dir +'/training_parameters.json', 'r') as fp:\n",
    "    training_parameters = json.loads( fp.read() )\n",
    "# vocabulary encoder-decoder\n",
    "encoderDecoder = EncoderDecoder()\n",
    "num_symbols = encoderDecoder.vocabularySize()\n",
    "# prepare data\n",
    "prepare_data(1000)\n",
    "sentences, ratings = read_data( max_size=None, \n",
    "                               max_sentence_size=training_parameters['seq_max'],\n",
    "                               min_sentence_size=int(FLAGS.sequence_min), \n",
    "                               test=False) \n",
    "print len(sentences), \" sentences\"\n",
    "if len(sentences) < n_samples:\n",
    "    n_samples = len(sentences) - 1\n",
    "sns.distplot( [len(sent) for sent in sentences])\n",
    "plt.show()"
   ]
  },
  {
   "cell_type": "markdown",
   "metadata": {},
   "source": [
    "## Loading models"
   ]
  },
  {
   "cell_type": "code",
   "execution_count": null,
   "metadata": {
    "collapsed": false,
    "scrolled": false
   },
   "outputs": [],
   "source": [
    "space_symbol = encoderDecoder.encode(\"I am\")[1]\n",
    "word_delimiters = [ data_utils_LMR._EOS, data_utils_LMR._GO, space_symbol ]\n",
    "batch_gen = Generator(sentences, ratings, n_samples, word_delimiters)\n",
    "num_iters = FLAGS.epoches * batch_gen.iterations_per_epoch()\n",
    "# text decoder ( text <-> ids)\n",
    "encoderDecoder = EncoderDecoder()\n",
    "\n",
    "config = tf.ConfigProto(\n",
    "        device_count = {'GPU': 0}, # do not use GPU for testing\n",
    "    )\n",
    "\n",
    "# load model\n",
    "vrae_model = Vrae_model(char2word_state_size = int(FLAGS.char2word_state_size), \n",
    "                     char2word_num_layers = int(FLAGS.char2word_num_layers), \n",
    "                     encoder_state_size = int(FLAGS.encoder_state_size), \n",
    "                     encoder_num_layers = int(FLAGS.encoder_num_layers), \n",
    "                     decoder_state_size = int(FLAGS.decoder_state_size), \n",
    "                     decoder_num_layers = int(FLAGS.decoder_num_layers), \n",
    "                          latent_dim=int(FLAGS.latent_dim),\n",
    "                         batch_size=n_samples,\n",
    "                         num_symbols=num_symbols,\n",
    "                        latent_loss_weight=float(FLAGS.latent_loss_weight),\n",
    "                         dtype_precision=FLAGS.dtype_precision,\n",
    "                        cell_type=FLAGS.cell, \n",
    "                        peephole=FLAGS.peephole,\n",
    "                        input_keep_prob=float(FLAGS.input_keep_prob),\n",
    "                        output_keep_prob=float(FLAGS.output_keep_prob),\n",
    "                      sentiment_feature = bool(FLAGS.use_sentiment_feature)\n",
    "                       )\n",
    "\n",
    "def zToXdecoded(session,z_sample,s_length):\n",
    "    x_reconstruct = vrae_model.zToX(session,z_sample,s_length)\n",
    "    return encoderDecoder.prettyDecode( np.argmax(x_reconstruct[0], axis= 1) ) "
   ]
  },
  {
   "cell_type": "markdown",
   "metadata": {},
   "source": [
    "## Generating test data"
   ]
  },
  {
   "cell_type": "code",
   "execution_count": null,
   "metadata": {
    "collapsed": false,
    "scrolled": false
   },
   "outputs": [
    {
     "name": "stdout",
     "output_type": "stream",
     "text": [
      "INFO:tensorflow:Restoring parameters from ./logs/sentiment_input_deep/model.ckp\n",
      "\n"
     ]
    }
   ],
   "source": [
    "saver = tf.train.Saver()\n",
    "#print train_dir\n",
    "np.random.seed(13)\n",
    "batch_gen.shuffle()\n",
    "samples = []\n",
    "with tf.Session(config=config) as sess:\n",
    "    saver.restore(sess, \"./\"+training_dir+'/model.ckp')\n",
    "    print\n",
    "    padded_batch_xs, batch_ys, batch_lengths, batch_weights, end_of_words, batch_word_lengths, max_length  = batch_gen.next_batch()\n",
    "    vaderSentiments = [ getSentimentScore(encoderDecoder.prettyDecode(xx)) for xx in padded_batch_xs]\n",
    "    x_reconstruct,z_vals,z_mean_val,z_log_sigma_sq_val, losses  = vrae_model.reconstruct( sess, \n",
    "                                                                                         padded_batch_xs,batch_lengths, \n",
    "                                                                                         batch_weights, \n",
    "                                                                                         end_of_words, \n",
    "                                                                                         batch_word_lengths,\n",
    "                                                                                        vaderSentiments)\n",
    "print \"Done!\"    "
   ]
  },
  {
   "cell_type": "code",
   "execution_count": null,
   "metadata": {
    "collapsed": false
   },
   "outputs": [],
   "source": [
    "print losses"
   ]
  },
  {
   "cell_type": "code",
   "execution_count": null,
   "metadata": {
    "collapsed": false
   },
   "outputs": [],
   "source": [
    "vaderSentiments = [ getSentimentScore(encoderDecoder.prettyDecode(padded_batch_xs[i])) for i in xrange(n_samples)]"
   ]
  },
  {
   "cell_type": "markdown",
   "metadata": {},
   "source": [
    "## Reconstruction"
   ]
  },
  {
   "cell_type": "code",
   "execution_count": null,
   "metadata": {
    "collapsed": false,
    "scrolled": false
   },
   "outputs": [],
   "source": [
    "#np.random.seed(13)\n",
    "for i in range(10):\n",
    "    i = int(np.random.random()*n_samples)\n",
    "    i = i\n",
    "    print \"sentiment:\", vaderSentiments[i],\"| rating:\", batch_ys[i]\n",
    "    print encoderDecoder.prettyDecode( padded_batch_xs[i] )\n",
    "    print encoderDecoder.prettyDecode( np.argmax(x_reconstruct[i], axis= 1) )\n",
    "    print \"------------------------------------------\""
   ]
  },
  {
   "cell_type": "markdown",
   "metadata": {},
   "source": [
    "## Reconstruction in the Latent Space"
   ]
  },
  {
   "cell_type": "code",
   "execution_count": null,
   "metadata": {
    "collapsed": false
   },
   "outputs": [],
   "source": [
    "# dimension reduction\n",
    "from sklearn.manifold import TSNE\n",
    "X = np.array(z_vals)\n",
    "model = TSNE(n_components=2, random_state=0)\n",
    "np.set_printoptions(suppress=True)\n",
    "zs_reduced = model.fit_transform(X) \n",
    "xs = [ zs_reduced[i,0] for i in xrange(n_samples) ]\n",
    "ys = [ zs_reduced[i,1] for i in xrange(n_samples) ]"
   ]
  },
  {
   "cell_type": "code",
   "execution_count": null,
   "metadata": {
    "collapsed": false
   },
   "outputs": [],
   "source": [
    "from bokeh.layouts import column\n",
    "from bokeh.models import CustomJS, ColumnDataSource, Select\n",
    "from bokeh.plotting import figure, output_file, show\n",
    "!export BOKEH_LOG_LEVEL=error\n",
    "output_file(\"latent_space.html\")\n",
    "\n",
    "inputs = [encoderDecoder.prettyDecode(x) for x in padded_batch_xs]\n",
    "M =max(batch_lengths)\n",
    "binary_rating = [ int(r > 5) for r in batch_ys]\n",
    "colors_sent = [ \"#%02x%02x%02x\" % ( 100 + 150 * r[0] ,  100 + 150 * r[2]  , 100 + 100 * r[1]  ) for r in vaderSentiments ]\n",
    "color_rating = [ \"#%02x%02x%02x\" % (255 * (1-r) , 100, 255*r) for r in binary_rating ]\n",
    "colors_lengths = [ \"#%02x%02x%02x\" % (  ( 255 * (float(r)/float(M))), 50, 255 - 255 * (float(r)/float(M)))  for r in batch_lengths ]\n",
    "hasQuestionMark = [ int(\"?\" in x) for x in inputs]\n",
    "colors_questionMark = [\"#%02x%02x%02x\" % (255 * (1-r) , 100, 255*r) for r in hasQuestionMark]\n",
    "is_past_voice = [ int(\"was\" in x) or int(\"were\" in x) or int(\"did\" in x) or int(\"had\" in x) for x in inputs]\n",
    "colors_past = [\"#%02x%02x%02x\" % (255 * (1-r) , 100, 255*r) for r in is_past_voice]\n",
    "\n",
    "source = ColumnDataSource(\n",
    "        data=dict(\n",
    "            x=xs,\n",
    "            y=ys,\n",
    "            input=inputs,\n",
    "            output= [encoderDecoder.prettyDecode(np.argmax(y, axis= 1) ) for y in x_reconstruct],\n",
    "            rating=batch_ys,\n",
    "            sent= vaderSentiments,\n",
    "            rating_color=color_rating,\n",
    "            sentiment_color=colors_sent,\n",
    "            lenght_color=colors_lengths,\n",
    "            questionMark_color=colors_questionMark,\n",
    "            past_color = colors_past,\n",
    "            lengths=batch_lengths,\n",
    "        )\n",
    "    )\n",
    "\n",
    "\n",
    "hover = HoverTool(\n",
    "        tooltips=[\n",
    "            (\"index\", \"$index\"),\n",
    "            (\"(x,y)\", \"($x, $y)\"),\n",
    "            (\"input\", \"@input\"),\n",
    "            (\"output\", \"@output\"),\n",
    "            (\"rating\", \"@rating\"),\n",
    "            (\"lengths\", \"@lengths\"),\n",
    "        ]\n",
    "    )\n",
    "\n",
    "p = figure(plot_width=800, plot_height=600, tools=[hover],title=\"Latent space\")\n",
    "cir = p.circle('x', 'y', size=9, source=source, fill_color=\"sentiment_color\", alpha=0.8)\n",
    "\n",
    "callback = CustomJS(args=dict(cir=cir,source=source), code=\"\"\"\n",
    "        var selected_color = cb_obj.value;\n",
    "        selected_color = selected_color\n",
    "        console.log(selected_color);\n",
    "        cir.glyph.line_color.field = selected_color;\n",
    "        cir.glyph.fill_color.field = selected_color;\n",
    "        source.trigger(\"change\")\n",
    "    \"\"\")\n",
    "\n",
    "\n",
    "select = Select(title=\"Color:\", value=\"sentiment\", options=[\"sentiment_color\", \"rating_color\", \"lenght_color\", \"questionMark_color\", \"past_color\"], callback=callback)\n",
    "\n",
    "\n",
    "layout = column(select, p)\n",
    "\n",
    "show(layout)"
   ]
  },
  {
   "cell_type": "markdown",
   "metadata": {
    "collapsed": true
   },
   "source": [
    "## Sentiment Distribution"
   ]
  },
  {
   "cell_type": "code",
   "execution_count": null,
   "metadata": {
    "collapsed": false,
    "scrolled": false
   },
   "outputs": [],
   "source": [
    "import seaborn as sns\n",
    "cols = sns.color_palette()\n",
    "pos = []\n",
    "neg = []\n",
    "neu = []\n",
    "major_sent = np.argmax(vaderSentiments, axis = 1)\n",
    "for i in xrange(n_samples):\n",
    "    if major_sent[i] == 2:\n",
    "        pos.append( z_mean_val[i,:] )\n",
    "    elif major_sent[i] == 0:\n",
    "        neg.append( z_mean_val[i,:] )\n",
    "    else:\n",
    "        neu.append( z_mean_val[i,:] )\n",
    "\n",
    "print len(pos), \"positive sentences\"\n",
    "print len(neg), \"negative sentences\"\n",
    "print len(neu), \"neutral sentences\"\n",
    "\n",
    "pos = np.array(pos)\n",
    "neg = np.array(neg)\n",
    "neu = np.array(neu)\n",
    "\n",
    "side_lenght = int(np.sqrt(int(FLAGS.latent_dim)))\n",
    "if side_lenght**2 < int(FLAGS.latent_dim):\n",
    "    side_lenght +=1\n",
    "f, axs = plt.subplots(ncols=side_lenght, nrows=side_lenght, sharey=True, figsize=(10, 10))\n",
    "for i in xrange(side_lenght):\n",
    "    for j in xrange(side_lenght):\n",
    "        k = i*side_lenght+j\n",
    "        if k < int(FLAGS.latent_dim):\n",
    "            sns.distplot( neu[:,k], ax=axs[i,j], hist=False, color= cols[0] )\n",
    "            sns.distplot( pos[:,k], ax=axs[i,j], hist=False, color= cols[1] )\n",
    "            sns.distplot( neg[:,k], ax=axs[i,j], hist=False, color= cols[2])\n",
    "plt.show()"
   ]
  },
  {
   "cell_type": "markdown",
   "metadata": {},
   "source": [
    "## The Sentiment Dimension"
   ]
  },
  {
   "cell_type": "code",
   "execution_count": null,
   "metadata": {
    "collapsed": false
   },
   "outputs": [],
   "source": [
    "import scipy\n",
    "import random\n",
    "\n",
    "KLs = []\n",
    "for k in xrange(int(FLAGS.latent_dim)):\n",
    "    a = list(neg[:,k])\n",
    "    b = list(pos[:,k])\n",
    "    kl = np.abs( np.mean(a) - np.mean(b))\n",
    "    \n",
    "    KLs.append( kl )\n",
    "\n",
    "sorted_kls = sorted( enumerate(KLs) , key = lambda x: x[1], reverse=True )\n",
    "for k,kl in sorted_kls:\n",
    "    print k,kl"
   ]
  },
  {
   "cell_type": "code",
   "execution_count": null,
   "metadata": {
    "collapsed": false
   },
   "outputs": [],
   "source": [
    "k=sorted_kls[0][0]\n",
    "sns.distplot( neu[:,k], hist=False, color= cols[0] )\n",
    "sns.distplot( pos[:,k], hist=False, color= cols[1] )\n",
    "sns.distplot( neg[:,k], hist=False, color= cols[2])\n",
    "plt.show()"
   ]
  },
  {
   "cell_type": "code",
   "execution_count": null,
   "metadata": {
    "collapsed": false,
    "scrolled": false
   },
   "outputs": [],
   "source": [
    "ks = sorted_kls[0][:3]\n",
    "dx = 2\n",
    "\n",
    "saver = tf.train.Saver()\n",
    "with tf.Session(config=config) as sess:\n",
    "    saver.restore(sess, \"./\"+training_dir+'/model.ckp')\n",
    "    u0 = \"I like this movie.\"\n",
    "    u1 = \"I recommend this movie.\"\n",
    "    u = u0\n",
    "    #print u\n",
    "    z0 = vrae_model.XToz(sess, *encoderDecoder.encodeForTraining(u), sentiment=getSentimentScore(u))[0]\n",
    "    #z0 = np.zeros(int(FLAGS.latent_dim))\n",
    "    dz = np.zeros(int(FLAGS.latent_dim))\n",
    "    dz[k] = dx\n",
    "    z1 = z0 + dz\n",
    "    z2 = z0 - dz\n",
    "    print \"distance between two points:\",np.linalg.norm(z2-z1),\"\\n\"\n",
    "    zs = []\n",
    "    for t in np.linspace(0,1,30):\n",
    "        zs.append( (1-t) * z1 + t * z2 )\n",
    "\n",
    "    for z_ in zs:\n",
    "        print zToXdecoded(sess, z_ , 45 )"
   ]
  },
  {
   "cell_type": "markdown",
   "metadata": {},
   "source": [
    "## Dimension pairplot\n",
    "\n",
    "cross check dimensions"
   ]
  },
  {
   "cell_type": "code",
   "execution_count": null,
   "metadata": {
    "collapsed": false
   },
   "outputs": [],
   "source": [
    "import pandas as pd \n",
    "major_sent = np.argmax(vaderSentiments, axis = 1)\n",
    "sent_df = pd.DataFrame( z_mean_val )\n",
    "sent_df['major_sent'] = major_sent\n",
    "#sns.pairplot(sent_df, hue='major_sent', diag_kind=\"kde\")\n",
    "#plt.show()"
   ]
  },
  {
   "cell_type": "markdown",
   "metadata": {},
   "source": [
    "## Continuous space: Homotopy"
   ]
  },
  {
   "cell_type": "code",
   "execution_count": null,
   "metadata": {
    "collapsed": false,
    "scrolled": false
   },
   "outputs": [],
   "source": [
    "saver = tf.train.Saver()\n",
    "with tf.Session(config=config) as sess:\n",
    "    saver.restore(sess, \"./\"+training_dir+'/model.ckp')\n",
    "    print\n",
    "    \n",
    "    # show interpolations\n",
    "    u0 = [\"I loved it.\" , \"I hated this film.\"]\n",
    "    u01 = [\"I loved it.\" , \"It was terrible.\"]\n",
    "    u1 = [\"I loved this movie!.\", \"I hated this movie!\"]\n",
    "    u2 = [\"The best movie I've seen!\", \"The worst movie ever made.\"]\n",
    "    u3 = [\"great movie.\", \"terrible movie.\"]\n",
    "    u4 = [\"that's actually pretty good.\" , \"That was a failure.\"]\n",
    "    u5 = [\"I didn't laugh at all.\", \"I wanted to love this movie.\"]\n",
    "    u6 = [\"so bad that it's really bad\" , \"Where is the acting?\"]\n",
    "    u7 = [\"I love old movies.\", \"I prefer old movies.\"]\n",
    "    u8 = [\"the music is very bad.\", \"the music is just awful.\"]\n",
    "    u9 = [\"awesome!\", \"terrible.\"]\n",
    "    u10 = [\"awful.\" , \"pretty worthless.\"]\n",
    "    u11 = [\"yes you do.\" , \"no you don't.\"]\n",
    "    u12 = [\"The acting was really bad.\" , \"The acting was really good!\"]\n",
    "    u13 = [\"This film was fascinatingly stupid.\" , \"This is an excellent film.\"]\n",
    "    u14 = [\"I don't recommend it to anyone.\", \"This is a really really bad movie.\"]\n",
    "    u = u10\n",
    "    z1 = vrae_model.XToz(sess, *encoderDecoder.encodeForTraining(u[0]),sentiment=getSentimentScore(u[0]))[0]\n",
    "    z2 = vrae_model.XToz(sess, *encoderDecoder.encodeForTraining(u[1]),sentiment=getSentimentScore(u[1]))[0]\n",
    "    #z1 = np.zeros(16)\n",
    "    #z2 = 0.1 * np.ones(16)\n",
    "    print \"distance between two points:\",np.linalg.norm(z2-z1),\"\\n\"\n",
    "    zs = []\n",
    "    for t in np.linspace(0,1,20):\n",
    "        zs.append( (1-t) * z1 + t * z2 )\n",
    "\n",
    "    for z_ in zs:\n",
    "        print zToXdecoded(sess, z_ , 45 )"
   ]
  },
  {
   "cell_type": "markdown",
   "metadata": {},
   "source": [
    "## Reconstruction: Reconstructing using Model's knowledge"
   ]
  },
  {
   "cell_type": "code",
   "execution_count": null,
   "metadata": {
    "collapsed": false
   },
   "outputs": [],
   "source": [
    "saver = tf.train.Saver()\n",
    "with tf.Session(config=config) as sess:\n",
    "    saver.restore(sess, \"./\"+training_dir+'/model.ckp')\n",
    "    u0 = \"I like this movie.\"\n",
    "    u1 = \"It was terrible.\"\n",
    "    u2 = \"I recommend it.\"\n",
    "    u3 = \"I loved it.\"\n",
    "    us = [u0,u1,u2,u3]\n",
    "    for u in us:\n",
    "        z = vrae_model.XToz(sess, *encoderDecoder.encodeForTraining(u), sentiment=getSentimentScore(u))[0]\n",
    "        print u, \"->\",\n",
    "        print zToXdecoded(sess,z,40)"
   ]
  },
  {
   "cell_type": "markdown",
   "metadata": {},
   "source": [
    "## Vector Translations"
   ]
  },
  {
   "cell_type": "code",
   "execution_count": null,
   "metadata": {
    "collapsed": false
   },
   "outputs": [],
   "source": [
    "saver = tf.train.Saver()\n",
    "with tf.Session(config=config) as sess:\n",
    "    saver.restore(sess, \"./\"+training_dir+'/model.ckp')\n",
    "    print\n",
    "    \n",
    "    # show interpolations\n",
    "    a = \"I liked it.\"\n",
    "    b = \"I didn't like it.\"\n",
    "    c = \"I recommend this movie.\"\n",
    "    \n",
    "    \n",
    "    #a = \"it was terrible.\"\n",
    "    #b = \"it was not good.\"\n",
    "    #c = \"Id didn't like it.\"\n",
    "    \n",
    "    #a = \"I love this movie!\"\n",
    "    #b = \"I like this movie.\"\n",
    "    #c = \"I love the acting!\"\n",
    "    \n",
    "    za = vrae_model.XToz(sess, *encoderDecoder.encodeForTraining(a), sentiment=getSentimentScore(a) )[0]\n",
    "    zb = vrae_model.XToz(sess, *encoderDecoder.encodeForTraining(b), sentiment=getSentimentScore(b))[0]\n",
    "    zc = vrae_model.XToz(sess, *encoderDecoder.encodeForTraining(c), sentiment=getSentimentScore(c))[0]\n",
    "    \n",
    "    # translation\n",
    "    zd = zc + (zb - za)\n",
    "    print \"a \\t\\t|\", a,\"|\", zToXdecoded(sess, za , 40 )\n",
    "    print \"b \\t\\t|\", b,\"|\", zToXdecoded(sess, zb , 40 )\n",
    "    print \"c \\t\\t|\", c,\"|\", zToXdecoded(sess, zc , 40 )\n",
    "    print\n",
    "    print \"c + b-a \\t|\", zToXdecoded(sess, zd , 40 )"
   ]
  },
  {
   "cell_type": "code",
   "execution_count": null,
   "metadata": {
    "collapsed": true
   },
   "outputs": [],
   "source": []
  },
  {
   "cell_type": "markdown",
   "metadata": {
    "collapsed": true
   },
   "source": [
    "## Neighborhood"
   ]
  },
  {
   "cell_type": "code",
   "execution_count": null,
   "metadata": {
    "collapsed": false
   },
   "outputs": [],
   "source": [
    "saver = tf.train.Saver()\n",
    "with tf.Session(config=config) as sess:\n",
    "    saver.restore(sess, \"./\"+training_dir+'/model.ckp')\n",
    "    print\n",
    "    \n",
    "    # show interpolations\n",
    "    u1 = \"That's actually pretty good.\"\n",
    "    u2 = \"I love it.\"\n",
    "    u = u1\n",
    "    z1 = vrae_model.XToz(sess, *encoderDecoder.encodeForTraining(u), sentiment=getSentimentScore(u))[0]\n",
    "    print z1\n",
    "    print\n",
    "    r = 1\n",
    "    zs = []\n",
    "    for t in range(50):\n",
    "        z2 = [ z_ + r * np.random.random() for z_ in z1  ]\n",
    "        zs.append( z2)\n",
    "\n",
    "    for z_ in zs:\n",
    "        print zToXdecoded(sess, z_ , 40 )"
   ]
  },
  {
   "cell_type": "markdown",
   "metadata": {},
   "source": [
    "$$\\log p(x) =  \\sum_{i=1}^N q(z^{(i)} | x ) \\log p(x)$$\n",
    "\n",
    "\n",
    "$$ \\sum_{i=1}^N q(z^{(i)} | x ) \\left [    \\frac{q_\\phi(z^{(i)} | x) p_\\theta(x,z)}{p_\\theta(z|x^{(i)}) q_\\phi(z^{(i)} | x) }    \\right ] $$\n",
    "   \n",
    "   \n",
    "$$ \\sum_{i=1}^N q(z^{(i)} | x ) \\log \\frac{q(z^{(i)} | x )}{p_\\theta(z|x^{(i)})} + q(z^{(i)} | x ) \\log p_\\theta(x,z) - q(z^{(i)} | x ) log q(z^{(i)} | x ) $$\n",
    "\n",
    "\n",
    "$$ D_{KL} (q(z^{(i)} | x ) || p_\\theta(z|x^{(i)})) + E_{q(z^{(i)} | x )} [- \\log q(z^{(i)} | x ) + \\log p_\\theta (x,z)] $$"
   ]
  },
  {
   "cell_type": "code",
   "execution_count": 199,
   "metadata": {
    "collapsed": false
   },
   "outputs": [
    {
     "ename": "SyntaxError",
     "evalue": "invalid syntax (<ipython-input-199-5662f678ed41>, line 1)",
     "output_type": "error",
     "traceback": [
      "\u001b[0;36m  File \u001b[0;32m\"<ipython-input-199-5662f678ed41>\"\u001b[0;36m, line \u001b[0;32m1\u001b[0m\n\u001b[0;31m    & = \\sum_{i=1}^N q(z^{(i)} | x ) \\left [    \\frac{q_\\phi(z^{(i)} | x) p_\\theta(x,z)}{p_\\theta(z|x^{(i)}) q_\\phi(z^{(i)} | x) }    \\right ]  \\   & = \\sum_{i=1}^N q(z^{(i)} | x ) \\log \\frac{q(z^{(i)} | x )}{p_\\theta(z|x^{(i)})} + q(z^{(i)} | x ) \\log p_\\theta(x,z) - q(z^{(i)} | x ) log q(z^{(i)} | x ) \\   & = D_{KL} (q(z^{(i)} | x ) || p_\\theta(z|x^{(i)})) + E_{q(z^{(i)} | x )} [- \\log q(z^{(i)} | x ) + \\log p_\\theta (x,z)]\u001b[0m\n\u001b[0m    ^\u001b[0m\n\u001b[0;31mSyntaxError\u001b[0m\u001b[0;31m:\u001b[0m invalid syntax\n"
     ]
    }
   ],
   "source": [
    " & = \\sum_{i=1}^N q(z^{(i)} | x ) \\left [    \\frac{q_\\phi(z^{(i)} | x) p_\\theta(x,z)}{p_\\theta(z|x^{(i)}) q_\\phi(z^{(i)} | x) }    \\right ]  \\\\\n",
    "    & = \\sum_{i=1}^N q(z^{(i)} | x ) \\log \\frac{q(z^{(i)} | x )}{p_\\theta(z|x^{(i)})} + q(z^{(i)} | x ) \\log p_\\theta(x,z) - q(z^{(i)} | x ) log q(z^{(i)} | x ) \\\\\n",
    "    & = D_{KL} (q(z^{(i)} | x ) || p_\\theta(z|x^{(i)})) + E_{q(z^{(i)} | x )} [- \\log q(z^{(i)} | x ) + \\log p_\\theta (x,z)]"
   ]
  },
  {
   "cell_type": "markdown",
   "metadata": {},
   "source": [
    "$$ \\mathcal{L} (\\theta , \\phi ; \\theta^{(i)})  = E_{q_\\phi(z| x^{(i)} )} [- \\log q_\\phi( | x^{(i)} ) + \\log p_\\theta (x^{(i)},z)] $$\n",
    "\n",
    "$$- D_{KL} ( q_\\phi(z | x^{(i)} ) || p_\\theta(z) ) + E_{q_\\phi(z| x^{(i)} )} [ \\log p_\\theta(x^{(i)} | z)]$$"
   ]
  },
  {
   "cell_type": "code",
   "execution_count": null,
   "metadata": {
    "collapsed": true
   },
   "outputs": [],
   "source": []
  }
 ],
 "metadata": {
  "kernelspec": {
   "display_name": "Python 2",
   "language": "python",
   "name": "python2"
  },
  "language_info": {
   "codemirror_mode": {
    "name": "ipython",
    "version": 2
   },
   "file_extension": ".py",
   "mimetype": "text/x-python",
   "name": "python",
   "nbconvert_exporter": "python",
   "pygments_lexer": "ipython2",
   "version": "2.7.13"
  }
 },
 "nbformat": 4,
 "nbformat_minor": 2
}
